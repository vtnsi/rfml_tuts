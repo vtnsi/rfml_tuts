{
 "cells": [
  {
   "cell_type": "markdown",
   "id": "7aafc443",
   "metadata": {},
   "source": [
    "# AI Test Harness Demo\n",
    "This notebook demonstrates the functionality of a prototype AI test harness.  The prototype in this demonstration is built specifically for PyTorch classification models.  However, this construct could easily be expanded to other common types of models or custom models.\n",
    "\n",
    "The AI test harness combines three components:\n",
    "\n",
    "1. Trained models\n",
    "2. Data sets\n",
    "3. T&E methods\n",
    "\n",
    "<img src=\"resources/AI_harness.png\" width=\"600\" align=\"center\">"
   ]
  },
  {
   "cell_type": "markdown",
   "id": "738ef987",
   "metadata": {},
   "source": [
    "Load modules"
   ]
  },
  {
   "cell_type": "code",
   "execution_count": null,
   "id": "ae87d7cb",
   "metadata": {
    "tags": []
   },
   "outputs": [],
   "source": [
    "import sys\n",
    "sys.path.append(\"..\")\n",
    "# AI test harness prototype class\n",
    "from rfml_ed_material.pytorch_ai_harness import AI_Test_Harness\n",
    "\n",
    "# CNN model class\n",
    "from rfml_ed_material.models.cnn_model import CNN_RF\n",
    "\n",
    "# accuracy function\n",
    "from sklearn.metrics import accuracy_score"
   ]
  },
  {
   "cell_type": "markdown",
   "id": "97183dd5",
   "metadata": {},
   "source": [
    "## Initialize Harness\n",
    "Initialize the test harness class"
   ]
  },
  {
   "cell_type": "code",
   "execution_count": null,
   "id": "fcf01c34",
   "metadata": {
    "tags": []
   },
   "outputs": [],
   "source": [
    "harness = AI_Test_Harness()"
   ]
  },
  {
   "cell_type": "markdown",
   "id": "1bde1ac3",
   "metadata": {},
   "source": [
    "## Load Model\n",
    "Load the model into the AI test harness"
   ]
  },
  {
   "cell_type": "code",
   "execution_count": null,
   "id": "cead6e1c",
   "metadata": {
    "tags": []
   },
   "outputs": [],
   "source": [
    "# define the model architecture\n",
    "model_architecture = CNN_RF(4)"
   ]
  },
  {
   "cell_type": "code",
   "execution_count": null,
   "id": "bc6d4649",
   "metadata": {
    "tags": []
   },
   "outputs": [],
   "source": [
    "# define path for model parameters\n",
    "model_dir = '../rfml_ed_material/models/model_params.pth'"
   ]
  },
  {
   "cell_type": "code",
   "execution_count": null,
   "id": "e6a4739e",
   "metadata": {
    "tags": []
   },
   "outputs": [],
   "source": [
    "# load model\n",
    "harness.load_model(model_dir, model_architecture)"
   ]
  },
  {
   "cell_type": "markdown",
   "id": "1a5bce81",
   "metadata": {},
   "source": [
    "## Load Dataset\n",
    "Load the test dataset into the AI test harness"
   ]
  },
  {
   "cell_type": "code",
   "execution_count": null,
   "id": "06809dfe",
   "metadata": {
    "tags": []
   },
   "outputs": [],
   "source": [
    "# define path to the test dataset\n",
    "dataset_dir = '../resources/test_dataset.pt'"
   ]
  },
  {
   "cell_type": "code",
   "execution_count": null,
   "id": "9b463858",
   "metadata": {
    "tags": []
   },
   "outputs": [],
   "source": [
    "# load dataset\n",
    "harness.load_dataset(dataset_dir)"
   ]
  },
  {
   "cell_type": "markdown",
   "id": "8f7e3902",
   "metadata": {},
   "source": [
    "## Evaluate Model\n",
    "Evaluate the model on the test data set.  Use the [accuracy metric](https://scikit-learn.org/stable/modules/generated/sklearn.metrics.accuracy_score.html) from sci-kit learn."
   ]
  },
  {
   "cell_type": "code",
   "execution_count": null,
   "id": "04bb217e",
   "metadata": {
    "tags": []
   },
   "outputs": [],
   "source": [
    "acc = harness.evaluate(accuracy_score)\n",
    "print('Accuracy score: ', acc)"
   ]
  }
 ],
 "metadata": {
  "kernelspec": {
   "display_name": "Python 3 (ipykernel)",
   "language": "python",
   "name": "python3"
  },
  "language_info": {
   "codemirror_mode": {
    "name": "ipython",
    "version": 3
   },
   "file_extension": ".py",
   "mimetype": "text/x-python",
   "name": "python",
   "nbconvert_exporter": "python",
   "pygments_lexer": "ipython3",
   "version": "3.11.9"
  }
 },
 "nbformat": 4,
 "nbformat_minor": 5
}
